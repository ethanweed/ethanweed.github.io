{
 "cells": [
  {
   "cell_type": "markdown",
   "metadata": {
    "slideshow": {
     "slide_type": "slide"
    }
   },
   "source": [
    "# Analysis of Developmental Language Data Using Multiple Regression\n",
    "![](images/Hoff_Naigles_2002_table5.png)\n"
   ]
  },
  {
   "cell_type": "markdown",
   "metadata": {
    "slideshow": {
     "slide_type": "slide"
    }
   },
   "source": [
    "# Linear Relationships\n",
    "\n",
    "\n",
    "One of the most basic things a researcher is interested in is seeing whether there is any relationship between variables. Here, we will look at data from Nettle (1998).\n",
    "\n",
    "<img src=\"images/Nettle_1998_abstract.png\" width=\"700\" height=\"700\" />\n",
    "\n"
   ]
  },
  {
   "cell_type": "markdown",
   "metadata": {
    "slideshow": {
     "slide_type": "slide"
    }
   },
   "source": [
    "## Data\n",
    "\n",
    "Nettle recorded:\n",
    "\n",
    "1. the *number of languages* \n",
    "1. the *area* (in km<sup>2</sup>) \n",
    "1. the *population* \n",
    "1. the *mean growing season* (MGS, in months) \n",
    "1. the number of weather stations measuring MGS\n",
    "1. the standard deviation of the measurements of MGS from the different weather stations in each country."
   ]
  },
  {
   "cell_type": "code",
   "execution_count": 2,
   "metadata": {
    "slideshow": {
     "slide_type": "slide"
    }
   },
   "outputs": [
    {
     "data": {
      "text/html": [
       "<div>\n",
       "<style scoped>\n",
       "    .dataframe tbody tr th:only-of-type {\n",
       "        vertical-align: middle;\n",
       "    }\n",
       "\n",
       "    .dataframe tbody tr th {\n",
       "        vertical-align: top;\n",
       "    }\n",
       "\n",
       "    .dataframe thead th {\n",
       "        text-align: right;\n",
       "    }\n",
       "</style>\n",
       "<table border=\"1\" class=\"dataframe\">\n",
       "  <thead>\n",
       "    <tr style=\"text-align: right;\">\n",
       "      <th></th>\n",
       "      <th>Country</th>\n",
       "      <th>Languages</th>\n",
       "      <th>Area</th>\n",
       "      <th>Population</th>\n",
       "      <th>Stations</th>\n",
       "      <th>MGS</th>\n",
       "      <th>GS_SD</th>\n",
       "      <th>Variable_GS</th>\n",
       "      <th>Used_in_1996</th>\n",
       "    </tr>\n",
       "  </thead>\n",
       "  <tbody>\n",
       "    <tr>\n",
       "      <th>0</th>\n",
       "      <td>Algeria</td>\n",
       "      <td>18</td>\n",
       "      <td>2.381741</td>\n",
       "      <td>25.660</td>\n",
       "      <td>102</td>\n",
       "      <td>6.60</td>\n",
       "      <td>2.29</td>\n",
       "      <td>Y</td>\n",
       "      <td>N</td>\n",
       "    </tr>\n",
       "    <tr>\n",
       "      <th>1</th>\n",
       "      <td>Angola</td>\n",
       "      <td>42</td>\n",
       "      <td>1.246700</td>\n",
       "      <td>10.303</td>\n",
       "      <td>50</td>\n",
       "      <td>6.22</td>\n",
       "      <td>1.87</td>\n",
       "      <td>N</td>\n",
       "      <td>N</td>\n",
       "    </tr>\n",
       "    <tr>\n",
       "      <th>2</th>\n",
       "      <td>Australia</td>\n",
       "      <td>234</td>\n",
       "      <td>7.713364</td>\n",
       "      <td>17.336</td>\n",
       "      <td>134</td>\n",
       "      <td>6.00</td>\n",
       "      <td>4.17</td>\n",
       "      <td>Y</td>\n",
       "      <td>N</td>\n",
       "    </tr>\n",
       "    <tr>\n",
       "      <th>3</th>\n",
       "      <td>Bangladesh</td>\n",
       "      <td>37</td>\n",
       "      <td>0.143998</td>\n",
       "      <td>118.745</td>\n",
       "      <td>20</td>\n",
       "      <td>7.40</td>\n",
       "      <td>0.73</td>\n",
       "      <td>N</td>\n",
       "      <td>N</td>\n",
       "    </tr>\n",
       "    <tr>\n",
       "      <th>4</th>\n",
       "      <td>Benin</td>\n",
       "      <td>52</td>\n",
       "      <td>0.112622</td>\n",
       "      <td>4.889</td>\n",
       "      <td>7</td>\n",
       "      <td>7.14</td>\n",
       "      <td>0.99</td>\n",
       "      <td>N</td>\n",
       "      <td>Y</td>\n",
       "    </tr>\n",
       "  </tbody>\n",
       "</table>\n",
       "</div>"
      ],
      "text/plain": [
       "      Country  Languages      Area  Population  Stations   MGS  GS_SD  \\\n",
       "0     Algeria         18  2.381741      25.660       102  6.60   2.29   \n",
       "1      Angola         42  1.246700      10.303        50  6.22   1.87   \n",
       "2   Australia        234  7.713364      17.336       134  6.00   4.17   \n",
       "3  Bangladesh         37  0.143998     118.745        20  7.40   0.73   \n",
       "4       Benin         52  0.112622       4.889         7  7.14   0.99   \n",
       "\n",
       "  Variable_GS Used_in_1996  \n",
       "0           Y            N  \n",
       "1           N            N  \n",
       "2           Y            N  \n",
       "3           N            N  \n",
       "4           N            Y  "
      ]
     },
     "execution_count": 2,
     "metadata": {},
     "output_type": "execute_result"
    }
   ],
   "source": [
    "from os import chdir as cd\n",
    "import pandas as pd\n",
    "\n",
    "#pathin = '/Users/ethan/Documents/GitHub/ethanweed.github.io/python-tutorials/data/'\n",
    "#file = 'nettle_1998.csv'\n",
    "\n",
    "#cd(pathin)\n",
    "url = 'https://raw.githubusercontent.com/ethanweed/ethanweed.github.io/master/python-tutorials/data/nettle_1998.csv'\n",
    "df = pd.read_csv(url, sep = ';')\n",
    "\n",
    "# make a pandas \"dataframe\" from the .csv file. The file uses semicolons to separate the columns.\n",
    "#df = pd.read_csv(file, sep = ';')\n",
    "\n",
    "# Nettle reports the population data in 1000's, probably to save room in the data table, \n",
    "#but that is an unusual number to think about population in, so let's convert to millions. \n",
    "#While we're at it, let's convert km2 to millions, so that the number doesn't appear in scientific notation \n",
    "#on the x-axis\n",
    "df['Population'] = df['Population']*1000/1000000\n",
    "df['Area'] = df['Area']/1000000\n",
    "\n",
    "# look at the first lines of the dataframe\n",
    "df.head()"
   ]
  },
  {
   "cell_type": "markdown",
   "metadata": {
    "slideshow": {
     "slide_type": "slide"
    }
   },
   "source": [
    "\n",
    "## Plotting Correlations\n",
    "- We can use seaborn to see if there is any clear relationship between these variables. \n",
    "\n",
    "- Is there a relationship countries' *area* and their *number of languages spoken*?  \n",
    "\n",
    "- We can use the ``sns.regplot`` function to take a quick look."
   ]
  },
  {
   "cell_type": "code",
   "execution_count": 3,
   "metadata": {
    "slideshow": {
     "slide_type": "slide"
    }
   },
   "outputs": [
    {
     "data": {
      "text/plain": [
       "<matplotlib.axes._subplots.AxesSubplot at 0x1a1d246ef0>"
      ]
     },
     "execution_count": 3,
     "metadata": {},
     "output_type": "execute_result"
    },
    {
     "data": {
      "image/png": "[encoded data removed]",
      "text/plain": [
       "<Figure size 432x288 with 1 Axes>"
      ]
     },
     "metadata": {
      "needs_background": "light"
     },
     "output_type": "display_data"
    }
   ],
   "source": [
    "import seaborn as sns\n",
    "import matplotlib.pyplot as plt\n",
    "%matplotlib inline\n",
    "import numpy as np\n",
    "\n",
    "sns.regplot(x = \"Area\", y = \"Languages\", data = df)"
   ]
  },
  {
   "cell_type": "markdown",
   "metadata": {
    "slideshow": {
     "slide_type": "slide"
    }
   },
   "source": [
    "There does seem to be some sort of relationship here, but it is difficult to see on the plot. A few countries are outliers, and they are pushing all the other data down into the lower-left corner. By transforming the data to a logarithmic scale, we can stretch them out a bit, and make them easier to see. Let's add two more columns to the dataframe, with log-transformed versions of the Population and Area data:"
   ]
  },
  {
   "cell_type": "code",
   "execution_count": 4,
   "metadata": {
    "slideshow": {
     "slide_type": "slide"
    }
   },
   "outputs": [
    {
     "data": {
      "text/html": [
       "<div>\n",
       "<style scoped>\n",
       "    .dataframe tbody tr th:only-of-type {\n",
       "        vertical-align: middle;\n",
       "    }\n",
       "\n",
       "    .dataframe tbody tr th {\n",
       "        vertical-align: top;\n",
       "    }\n",
       "\n",
       "    .dataframe thead th {\n",
       "        text-align: right;\n",
       "    }\n",
       "</style>\n",
       "<table border=\"1\" class=\"dataframe\">\n",
       "  <thead>\n",
       "    <tr style=\"text-align: right;\">\n",
       "      <th></th>\n",
       "      <th>Country</th>\n",
       "      <th>Languages</th>\n",
       "      <th>Area</th>\n",
       "      <th>Population</th>\n",
       "      <th>Stations</th>\n",
       "      <th>MGS</th>\n",
       "      <th>GS_SD</th>\n",
       "      <th>Variable_GS</th>\n",
       "      <th>Used_in_1996</th>\n",
       "      <th>Population_log</th>\n",
       "      <th>Area_log</th>\n",
       "      <th>Languages_log</th>\n",
       "    </tr>\n",
       "  </thead>\n",
       "  <tbody>\n",
       "    <tr>\n",
       "      <th>0</th>\n",
       "      <td>Algeria</td>\n",
       "      <td>18</td>\n",
       "      <td>2.381741</td>\n",
       "      <td>25.660</td>\n",
       "      <td>102</td>\n",
       "      <td>6.60</td>\n",
       "      <td>2.29</td>\n",
       "      <td>Y</td>\n",
       "      <td>N</td>\n",
       "      <td>3.244933</td>\n",
       "      <td>0.867832</td>\n",
       "      <td>2.890372</td>\n",
       "    </tr>\n",
       "    <tr>\n",
       "      <th>1</th>\n",
       "      <td>Angola</td>\n",
       "      <td>42</td>\n",
       "      <td>1.246700</td>\n",
       "      <td>10.303</td>\n",
       "      <td>50</td>\n",
       "      <td>6.22</td>\n",
       "      <td>1.87</td>\n",
       "      <td>N</td>\n",
       "      <td>N</td>\n",
       "      <td>2.332435</td>\n",
       "      <td>0.220500</td>\n",
       "      <td>3.737670</td>\n",
       "    </tr>\n",
       "    <tr>\n",
       "      <th>2</th>\n",
       "      <td>Australia</td>\n",
       "      <td>234</td>\n",
       "      <td>7.713364</td>\n",
       "      <td>17.336</td>\n",
       "      <td>134</td>\n",
       "      <td>6.00</td>\n",
       "      <td>4.17</td>\n",
       "      <td>Y</td>\n",
       "      <td>N</td>\n",
       "      <td>2.852785</td>\n",
       "      <td>2.042954</td>\n",
       "      <td>5.455321</td>\n",
       "    </tr>\n",
       "    <tr>\n",
       "      <th>3</th>\n",
       "      <td>Bangladesh</td>\n",
       "      <td>37</td>\n",
       "      <td>0.143998</td>\n",
       "      <td>118.745</td>\n",
       "      <td>20</td>\n",
       "      <td>7.40</td>\n",
       "      <td>0.73</td>\n",
       "      <td>N</td>\n",
       "      <td>N</td>\n",
       "      <td>4.776978</td>\n",
       "      <td>-1.937956</td>\n",
       "      <td>3.610918</td>\n",
       "    </tr>\n",
       "    <tr>\n",
       "      <th>4</th>\n",
       "      <td>Benin</td>\n",
       "      <td>52</td>\n",
       "      <td>0.112622</td>\n",
       "      <td>4.889</td>\n",
       "      <td>7</td>\n",
       "      <td>7.14</td>\n",
       "      <td>0.99</td>\n",
       "      <td>N</td>\n",
       "      <td>Y</td>\n",
       "      <td>1.586988</td>\n",
       "      <td>-2.183718</td>\n",
       "      <td>3.951244</td>\n",
       "    </tr>\n",
       "  </tbody>\n",
       "</table>\n",
       "</div>"
      ],
      "text/plain": [
       "      Country  Languages      Area  Population  Stations   MGS  GS_SD  \\\n",
       "0     Algeria         18  2.381741      25.660       102  6.60   2.29   \n",
       "1      Angola         42  1.246700      10.303        50  6.22   1.87   \n",
       "2   Australia        234  7.713364      17.336       134  6.00   4.17   \n",
       "3  Bangladesh         37  0.143998     118.745        20  7.40   0.73   \n",
       "4       Benin         52  0.112622       4.889         7  7.14   0.99   \n",
       "\n",
       "  Variable_GS Used_in_1996  Population_log  Area_log  Languages_log  \n",
       "0           Y            N        3.244933  0.867832       2.890372  \n",
       "1           N            N        2.332435  0.220500       3.737670  \n",
       "2           Y            N        2.852785  2.042954       5.455321  \n",
       "3           N            N        4.776978 -1.937956       3.610918  \n",
       "4           N            Y        1.586988 -2.183718       3.951244  "
      ]
     },
     "execution_count": 4,
     "metadata": {},
     "output_type": "execute_result"
    }
   ],
   "source": [
    "df['Population_log'] = np.log(df['Population'])\n",
    "df['Area_log'] = np.log(df['Area'])\n",
    "df['Languages_log'] = np.log(df['Languages'])\n",
    "df.head()"
   ]
  },
  {
   "cell_type": "markdown",
   "metadata": {
    "slideshow": {
     "slide_type": "fragment"
    }
   },
   "source": [
    "Now the relationship is a little easier to see:"
   ]
  },
  {
   "cell_type": "code",
   "execution_count": 5,
   "metadata": {
    "slideshow": {
     "slide_type": "fragment"
    }
   },
   "outputs": [
    {
     "data": {
      "text/plain": [
       "<matplotlib.axes._subplots.AxesSubplot at 0x1a1d5bca20>"
      ]
     },
     "execution_count": 5,
     "metadata": {},
     "output_type": "execute_result"
    },
    {
     "data": {
      "image/png": "[encoded data removed]",
      "text/plain": [
       "<Figure size 432x288 with 1 Axes>"
      ]
     },
     "metadata": {
      "needs_background": "light"
     },
     "output_type": "display_data"
    }
   ],
   "source": [
    "# Plot the log-transformed data\n",
    "sns.regplot(x = \"Area_log\", y = \"Languages_log\", data = df)"
   ]
  },
  {
   "cell_type": "code",
   "execution_count": 6,
   "metadata": {
    "slideshow": {
     "slide_type": "slide"
    }
   },
   "outputs": [
    {
     "name": "stdout",
     "output_type": "stream",
     "text": [
      "R (correlation coefficient):  0.2905\n",
      "p-value:  0.01204\n"
     ]
    }
   ],
   "source": [
    "import scipy.stats as stats\n",
    "\n",
    "# create a tuple \"res\" containing r and p-value for Pearson's correlation\n",
    "res = stats.pearsonr(df['Area'], df['Languages'])\n",
    "\n",
    "# round of the output to 5 decimal places\n",
    "print(\"R (correlation coefficient): \", round(res[0],5))\n",
    "print(\"p-value: \", round(res[1],5))"
   ]
  },
  {
   "cell_type": "markdown",
   "metadata": {
    "slideshow": {
     "slide_type": "fragment"
    }
   },
   "source": [
    "The output tells us that there is a positive correlation between the number of languages and the area of the country. We can see this in the correlation coefficient (cor) which is 0.29. The correlation coefficient is a number between 1 and -1, with 1 indicating a perfect positive correlation, and -1 indicating a perfect negative correlation. The p-value of the correlation indicates how confident we can be in the fit of the model."
   ]
  },
  {
   "cell_type": "markdown",
   "metadata": {
    "slideshow": {
     "slide_type": "slide"
    }
   },
   "source": [
    "## Correlation Matrix\n",
    "\n",
    "Sometimes it can be useful to look at all the correlations between all of the variables in a dataset at once. This can be done with a correlation matrix. However, we should be careful about reading too much into a correlation matrix: it just tells us how much the variables correlate with each other. In order to be more rigorous about making predictions, we will need to build linear models."
   ]
  },
  {
   "cell_type": "code",
   "execution_count": 7,
   "metadata": {
    "slideshow": {
     "slide_type": "fragment"
    }
   },
   "outputs": [
    {
     "name": "stdout",
     "output_type": "stream",
     "text": [
      "            Languages      Area  Population       MGS\n",
      "Languages    1.000000  0.290502    0.408753  0.241796\n",
      "Area         0.290502  1.000000    0.333082 -0.127708\n",
      "Population   0.408753  0.333082    1.000000 -0.017172\n",
      "MGS          0.241796 -0.127708   -0.017172  1.000000\n"
     ]
    }
   ],
   "source": [
    "print( df[['Languages','Area', 'Population', 'MGS']].corr())"
   ]
  },
  {
   "cell_type": "markdown",
   "metadata": {
    "slideshow": {
     "slide_type": "slide"
    }
   },
   "source": [
    "## Modelling a Relationship as a Linear Regression\n",
    "\n",
    "In the plot above, we used a linear model to draw the line between the points. The straight line in the plot is a linear model, that minimizes the distance between the line and every individual point. \n",
    "\n",
    "If we generate some random numbers to create white noise, then the line should be close to horizontal. "
   ]
  },
  {
   "cell_type": "markdown",
   "metadata": {
    "slideshow": {
     "slide_type": "slide"
    }
   },
   "source": [
    "We can test this by generating some white noise data. Here we create a vector of 1000 random numbers between 0 and 100 plotted against 1000 other random numbers between 0 and 100:"
   ]
  },
  {
   "cell_type": "code",
   "execution_count": 8,
   "metadata": {
    "slideshow": {
     "slide_type": "fragment"
    }
   },
   "outputs": [],
   "source": [
    "from random import seed\n",
    "from random import randint\n",
    "seed(42)\n",
    "x = []\n",
    "y = []\n",
    "for _ in range(1000):\n",
    "    xvalue = randint(0, 100)\n",
    "    yvalue = randint(0, 100)\n",
    "    x.append(xvalue)\n",
    "    y.append(yvalue)\n",
    "\n",
    "df_random = pd.DataFrame(\n",
    "    {'x': x,\n",
    "     'y': y})     "
   ]
  },
  {
   "cell_type": "markdown",
   "metadata": {
    "slideshow": {
     "slide_type": "slide"
    }
   },
   "source": [
    "Then we can fit a linear regression model to the data:"
   ]
  },
  {
   "cell_type": "code",
   "execution_count": 9,
   "metadata": {
    "slideshow": {
     "slide_type": "fragment"
    }
   },
   "outputs": [
    {
     "data": {
      "text/plain": [
       "Text(0.5, 1.0, 'White Noise')"
      ]
     },
     "execution_count": 9,
     "metadata": {},
     "output_type": "execute_result"
    },
    {
     "data": {
      "image/png": "[encoded data removed]",
      "text/plain": [
       "<Figure size 432x288 with 1 Axes>"
      ]
     },
     "metadata": {
      "needs_background": "light"
     },
     "output_type": "display_data"
    }
   ],
   "source": [
    "sns.regplot(x = \"x\", y = \"y\", data = df_random).set_title('White Noise')"
   ]
  },
  {
   "cell_type": "markdown",
   "metadata": {
    "slideshow": {
     "slide_type": "slide"
    }
   },
   "source": [
    "If we were in doubt, our correlation matrix shows us that there is very little correlation between these two vectors of random numbers:"
   ]
  },
  {
   "cell_type": "code",
   "execution_count": 10,
   "metadata": {
    "slideshow": {
     "slide_type": "fragment"
    }
   },
   "outputs": [
    {
     "name": "stdout",
     "output_type": "stream",
     "text": [
      "R (correlation coefficient):  0.03547\n",
      "p-value:  0.26244\n"
     ]
    }
   ],
   "source": [
    "res = stats.pearsonr(df_random['x'], df_random['y'])\n",
    "print(\"R (correlation coefficient): \", round(res[0],5))\n",
    "print(\"p-value: \", round(res[1],5))"
   ]
  },
  {
   "cell_type": "markdown",
   "metadata": {
    "slideshow": {
     "slide_type": "slide"
    }
   },
   "source": [
    "If we want to go beyond simply observing the correlation and instead use our linear model to make predictions about new data that we have not yet seen, we need to get the equation for our model's line. \n",
    "\n",
    "That will allow us to extend the line in either direction, and make predictions."
   ]
  },
  {
   "cell_type": "markdown",
   "metadata": {
    "slideshow": {
     "slide_type": "slide"
    }
   },
   "source": [
    "The equation of a line is $y=mx+y_0$, where $y_0$ is the point at which the line intercepts the y-axis. \n",
    "\n",
    "This is sometimes also written as $y=mx+b$, or $y=ax+b$. These equations are all equivalant. \n",
    "\n",
    "The important thing for our purposes is that they define the slope and intercept of a line which represents a *linear model* of the data."
   ]
  },
  {
   "cell_type": "markdown",
   "metadata": {
    "slideshow": {
     "slide_type": "slide"
    }
   },
   "source": [
    "Linear models are *very* useful, and they are all over the place in statistics. In the case of our random, white-noise data, because the slope is nearly equal to zero, the intercept of the model is a very close approximation of the mean of y:"
   ]
  },
  {
   "cell_type": "code",
   "execution_count": 11,
   "metadata": {
    "slideshow": {
     "slide_type": "fragment"
    }
   },
   "outputs": [
    {
     "data": {
      "text/plain": [
       "Text(0.5, 1.0, 'White Noise')"
      ]
     },
     "execution_count": 11,
     "metadata": {},
     "output_type": "execute_result"
    },
    {
     "data": {
      "image/png": "[encoded data removed]",
      "text/plain": [
       "<Figure size 432x288 with 1 Axes>"
      ]
     },
     "metadata": {
      "needs_background": "light"
     },
     "output_type": "display_data"
    }
   ],
   "source": [
    "sns.regplot(x = \"x\", y = \"y\", data = df_random).set_title('White Noise')"
   ]
  },
  {
   "cell_type": "code",
   "execution_count": 12,
   "metadata": {
    "slideshow": {
     "slide_type": "slide"
    }
   },
   "outputs": [
    {
     "name": "stdout",
     "output_type": "stream",
     "text": [
      "Mean of y = 51.097\n"
     ]
    },
    {
     "data": {
      "text/html": [
       "<table class=\"simpletable\">\n",
       "<caption>OLS Regression Results</caption>\n",
       "<tr>\n",
       "  <th>Dep. Variable:</th>            <td>y</td>        <th>  R-squared:         </th> <td>   0.001</td>\n",
       "</tr>\n",
       "<tr>\n",
       "  <th>Model:</th>                   <td>OLS</td>       <th>  Adj. R-squared:    </th> <td>   0.000</td>\n",
       "</tr>\n",
       "<tr>\n",
       "  <th>Method:</th>             <td>Least Squares</td>  <th>  F-statistic:       </th> <td>   1.257</td>\n",
       "</tr>\n",
       "<tr>\n",
       "  <th>Date:</th>             <td>Fri, 11 Oct 2019</td> <th>  Prob (F-statistic):</th>  <td> 0.262</td> \n",
       "</tr>\n",
       "<tr>\n",
       "  <th>Time:</th>                 <td>09:57:50</td>     <th>  Log-Likelihood:    </th> <td> -4771.5</td>\n",
       "</tr>\n",
       "<tr>\n",
       "  <th>No. Observations:</th>      <td>  1000</td>      <th>  AIC:               </th> <td>   9547.</td>\n",
       "</tr>\n",
       "<tr>\n",
       "  <th>Df Residuals:</th>          <td>   998</td>      <th>  BIC:               </th> <td>   9557.</td>\n",
       "</tr>\n",
       "<tr>\n",
       "  <th>Df Model:</th>              <td>     1</td>      <th>                     </th>     <td> </td>   \n",
       "</tr>\n",
       "<tr>\n",
       "  <th>Covariance Type:</th>      <td>nonrobust</td>    <th>                     </th>     <td> </td>   \n",
       "</tr>\n",
       "</table>\n",
       "<table class=\"simpletable\">\n",
       "<tr>\n",
       "      <td></td>         <th>coef</th>     <th>std err</th>      <th>t</th>      <th>P>|t|</th>  <th>[0.025</th>    <th>0.975]</th>  \n",
       "</tr>\n",
       "<tr>\n",
       "  <th>Intercept</th> <td>   49.3689</td> <td>    1.787</td> <td>   27.627</td> <td> 0.000</td> <td>   45.862</td> <td>   52.876</td>\n",
       "</tr>\n",
       "<tr>\n",
       "  <th>x</th>         <td>    0.0344</td> <td>    0.031</td> <td>    1.121</td> <td> 0.262</td> <td>   -0.026</td> <td>    0.095</td>\n",
       "</tr>\n",
       "</table>\n",
       "<table class=\"simpletable\">\n",
       "<tr>\n",
       "  <th>Omnibus:</th>       <td>576.895</td> <th>  Durbin-Watson:     </th> <td>   1.975</td>\n",
       "</tr>\n",
       "<tr>\n",
       "  <th>Prob(Omnibus):</th> <td> 0.000</td>  <th>  Jarque-Bera (JB):  </th> <td>  57.018</td>\n",
       "</tr>\n",
       "<tr>\n",
       "  <th>Skew:</th>          <td>-0.034</td>  <th>  Prob(JB):          </th> <td>4.16e-13</td>\n",
       "</tr>\n",
       "<tr>\n",
       "  <th>Kurtosis:</th>      <td> 1.832</td>  <th>  Cond. No.          </th> <td>    115.</td>\n",
       "</tr>\n",
       "</table><br/><br/>Warnings:<br/>[1] Standard Errors assume that the covariance matrix of the errors is correctly specified."
      ],
      "text/plain": [
       "<class 'statsmodels.iolib.summary.Summary'>\n",
       "\"\"\"\n",
       "                            OLS Regression Results                            \n",
       "==============================================================================\n",
       "Dep. Variable:                      y   R-squared:                       0.001\n",
       "Model:                            OLS   Adj. R-squared:                  0.000\n",
       "Method:                 Least Squares   F-statistic:                     1.257\n",
       "Date:                Fri, 11 Oct 2019   Prob (F-statistic):              0.262\n",
       "Time:                        09:57:50   Log-Likelihood:                -4771.5\n",
       "No. Observations:                1000   AIC:                             9547.\n",
       "Df Residuals:                     998   BIC:                             9557.\n",
       "Df Model:                           1                                         \n",
       "Covariance Type:            nonrobust                                         \n",
       "==============================================================================\n",
       "                 coef    std err          t      P>|t|      [0.025      0.975]\n",
       "------------------------------------------------------------------------------\n",
       "Intercept     49.3689      1.787     27.627      0.000      45.862      52.876\n",
       "x              0.0344      0.031      1.121      0.262      -0.026       0.095\n",
       "==============================================================================\n",
       "Omnibus:                      576.895   Durbin-Watson:                   1.975\n",
       "Prob(Omnibus):                  0.000   Jarque-Bera (JB):               57.018\n",
       "Skew:                          -0.034   Prob(JB):                     4.16e-13\n",
       "Kurtosis:                       1.832   Cond. No.                         115.\n",
       "==============================================================================\n",
       "\n",
       "Warnings:\n",
       "[1] Standard Errors assume that the covariance matrix of the errors is correctly specified.\n",
       "\"\"\""
      ]
     },
     "execution_count": 12,
     "metadata": {},
     "output_type": "execute_result"
    }
   ],
   "source": [
    "import statsmodels.formula.api as smf\n",
    "print('Mean of y =', df_random['y'].mean())\n",
    "mod = smf.ols(formula = 'y ~ x', data = df_random).fit()\n",
    "mod.summary()"
   ]
  },
  {
   "cell_type": "markdown",
   "metadata": {
    "slideshow": {
     "slide_type": "slide"
    }
   },
   "source": [
    "# Modelling Number of Languages as a Linear Function of Area\n",
    "\n",
    "When estimating a linear model, we need to specify a *formula*. In the formula below, the ``~`` means \"predicted by\", so the formula reads: \"Languages *predicted by* Area\". ``ols`` stands for \"ordinary least squares\", which is the method by which the algorithm estimates the equation of the line.\n",
    "\n",
    "``import statsmodels.formula.api as smf\n",
    "mod1 = smf.ols(formula = 'Languages ~ Area', data = df).fit()\n",
    "mod1.summary()``"
   ]
  },
  {
   "cell_type": "code",
   "execution_count": 13,
   "metadata": {
    "slideshow": {
     "slide_type": "slide"
    }
   },
   "outputs": [
    {
     "data": {
      "text/html": [
       "<table class=\"simpletable\">\n",
       "<caption>OLS Regression Results</caption>\n",
       "<tr>\n",
       "  <th>Dep. Variable:</th>        <td>Languages</td>    <th>  R-squared:         </th> <td>   0.084</td>\n",
       "</tr>\n",
       "<tr>\n",
       "  <th>Model:</th>                   <td>OLS</td>       <th>  Adj. R-squared:    </th> <td>   0.072</td>\n",
       "</tr>\n",
       "<tr>\n",
       "  <th>Method:</th>             <td>Least Squares</td>  <th>  F-statistic:       </th> <td>   6.636</td>\n",
       "</tr>\n",
       "<tr>\n",
       "  <th>Date:</th>             <td>Fri, 11 Oct 2019</td> <th>  Prob (F-statistic):</th>  <td>0.0120</td> \n",
       "</tr>\n",
       "<tr>\n",
       "  <th>Time:</th>                 <td>09:57:52</td>     <th>  Log-Likelihood:    </th> <td> -469.08</td>\n",
       "</tr>\n",
       "<tr>\n",
       "  <th>No. Observations:</th>      <td>    74</td>      <th>  AIC:               </th> <td>   942.2</td>\n",
       "</tr>\n",
       "<tr>\n",
       "  <th>Df Residuals:</th>          <td>    72</td>      <th>  BIC:               </th> <td>   946.8</td>\n",
       "</tr>\n",
       "<tr>\n",
       "  <th>Df Model:</th>              <td>     1</td>      <th>                     </th>     <td> </td>   \n",
       "</tr>\n",
       "<tr>\n",
       "  <th>Covariance Type:</th>      <td>nonrobust</td>    <th>                     </th>     <td> </td>   \n",
       "</tr>\n",
       "</table>\n",
       "<table class=\"simpletable\">\n",
       "<tr>\n",
       "      <td></td>         <th>coef</th>     <th>std err</th>      <th>t</th>      <th>P>|t|</th>  <th>[0.025</th>    <th>0.975]</th>  \n",
       "</tr>\n",
       "<tr>\n",
       "  <th>Intercept</th> <td>   63.3707</td> <td>   19.115</td> <td>    3.315</td> <td> 0.001</td> <td>   25.265</td> <td>  101.476</td>\n",
       "</tr>\n",
       "<tr>\n",
       "  <th>Area</th>      <td>   29.9297</td> <td>   11.618</td> <td>    2.576</td> <td> 0.012</td> <td>    6.769</td> <td>   53.090</td>\n",
       "</tr>\n",
       "</table>\n",
       "<table class=\"simpletable\">\n",
       "<tr>\n",
       "  <th>Omnibus:</th>       <td>90.300</td> <th>  Durbin-Watson:     </th> <td>   1.991</td> \n",
       "</tr>\n",
       "<tr>\n",
       "  <th>Prob(Omnibus):</th> <td> 0.000</td> <th>  Jarque-Bera (JB):  </th> <td>1035.641</td> \n",
       "</tr>\n",
       "<tr>\n",
       "  <th>Skew:</th>          <td> 3.831</td> <th>  Prob(JB):          </th> <td>1.30e-225</td>\n",
       "</tr>\n",
       "<tr>\n",
       "  <th>Kurtosis:</th>      <td>19.649</td> <th>  Cond. No.          </th> <td>    2.22</td> \n",
       "</tr>\n",
       "</table><br/><br/>Warnings:<br/>[1] Standard Errors assume that the covariance matrix of the errors is correctly specified."
      ],
      "text/plain": [
       "<class 'statsmodels.iolib.summary.Summary'>\n",
       "\"\"\"\n",
       "                            OLS Regression Results                            \n",
       "==============================================================================\n",
       "Dep. Variable:              Languages   R-squared:                       0.084\n",
       "Model:                            OLS   Adj. R-squared:                  0.072\n",
       "Method:                 Least Squares   F-statistic:                     6.636\n",
       "Date:                Fri, 11 Oct 2019   Prob (F-statistic):             0.0120\n",
       "Time:                        09:57:52   Log-Likelihood:                -469.08\n",
       "No. Observations:                  74   AIC:                             942.2\n",
       "Df Residuals:                      72   BIC:                             946.8\n",
       "Df Model:                           1                                         \n",
       "Covariance Type:            nonrobust                                         \n",
       "==============================================================================\n",
       "                 coef    std err          t      P>|t|      [0.025      0.975]\n",
       "------------------------------------------------------------------------------\n",
       "Intercept     63.3707     19.115      3.315      0.001      25.265     101.476\n",
       "Area          29.9297     11.618      2.576      0.012       6.769      53.090\n",
       "==============================================================================\n",
       "Omnibus:                       90.300   Durbin-Watson:                   1.991\n",
       "Prob(Omnibus):                  0.000   Jarque-Bera (JB):             1035.641\n",
       "Skew:                           3.831   Prob(JB):                    1.30e-225\n",
       "Kurtosis:                      19.649   Cond. No.                         2.22\n",
       "==============================================================================\n",
       "\n",
       "Warnings:\n",
       "[1] Standard Errors assume that the covariance matrix of the errors is correctly specified.\n",
       "\"\"\""
      ]
     },
     "execution_count": 13,
     "metadata": {},
     "output_type": "execute_result"
    }
   ],
   "source": [
    "import statsmodels.formula.api as smf\n",
    "mod1 = smf.ols(formula = 'Languages ~ Area', data = df).fit()\n",
    "mod1.summary()"
   ]
  },
  {
   "cell_type": "markdown",
   "metadata": {
    "slideshow": {
     "slide_type": "slide"
    }
   },
   "source": [
    "In the data table above, toward the middle, in the column called \"coef\", we see \"Area\". This is the regression coefficient, or $B$ (beta). \n",
    "\n",
    "The $B$ value is an estimate of the strength of the relationship between the two variables (just like the correlation coefficient $r$. \n",
    "\n",
    "But Area isn't the only thing correlated with the number of languages. \n",
    "\n",
    "Population size looks like it might also be a relevant factor:"
   ]
  },
  {
   "cell_type": "code",
   "execution_count": 14,
   "metadata": {
    "slideshow": {
     "slide_type": "slide"
    }
   },
   "outputs": [
    {
     "data": {
      "text/plain": [
       "<matplotlib.axes._subplots.AxesSubplot at 0x1a1e0757b8>"
      ]
     },
     "execution_count": 14,
     "metadata": {},
     "output_type": "execute_result"
    },
    {
     "data": {
      "image/png": "[encoded data removed]",
      "text/plain": [
       "<Figure size 432x288 with 2 Axes>"
      ]
     },
     "metadata": {
      "needs_background": "light"
     },
     "output_type": "display_data"
    }
   ],
   "source": [
    "fig, axs = plt.subplots(ncols=2, sharey = True)\n",
    "sns.regplot(x = \"Area_log\", y = \"Languages_log\", data = df, ax=axs[0])\n",
    "sns.regplot(x = \"Population_log\", y = \"Languages_log\", data = df, ax=axs[1])"
   ]
  },
  {
   "cell_type": "markdown",
   "metadata": {
    "slideshow": {
     "slide_type": "slide"
    }
   },
   "source": [
    "## Multiple Regression\n",
    "By adding Population as a second *predictor variable*, we can estimate the relative importance of both Area and Population in predicting the Number of Languages:"
   ]
  },
  {
   "cell_type": "code",
   "execution_count": 15,
   "metadata": {
    "slideshow": {
     "slide_type": "fragment"
    }
   },
   "outputs": [
    {
     "data": {
      "text/html": [
       "<table class=\"simpletable\">\n",
       "<caption>OLS Regression Results</caption>\n",
       "<tr>\n",
       "  <th>Dep. Variable:</th>        <td>Languages</td>    <th>  R-squared:         </th> <td>   0.194</td>\n",
       "</tr>\n",
       "<tr>\n",
       "  <th>Model:</th>                   <td>OLS</td>       <th>  Adj. R-squared:    </th> <td>   0.171</td>\n",
       "</tr>\n",
       "<tr>\n",
       "  <th>Method:</th>             <td>Least Squares</td>  <th>  F-statistic:       </th> <td>   8.538</td>\n",
       "</tr>\n",
       "<tr>\n",
       "  <th>Date:</th>             <td>Fri, 11 Oct 2019</td> <th>  Prob (F-statistic):</th> <td>0.000476</td>\n",
       "</tr>\n",
       "<tr>\n",
       "  <th>Time:</th>                 <td>09:57:55</td>     <th>  Log-Likelihood:    </th> <td> -464.37</td>\n",
       "</tr>\n",
       "<tr>\n",
       "  <th>No. Observations:</th>      <td>    74</td>      <th>  AIC:               </th> <td>   934.7</td>\n",
       "</tr>\n",
       "<tr>\n",
       "  <th>Df Residuals:</th>          <td>    71</td>      <th>  BIC:               </th> <td>   941.7</td>\n",
       "</tr>\n",
       "<tr>\n",
       "  <th>Df Model:</th>              <td>     2</td>      <th>                     </th>     <td> </td>   \n",
       "</tr>\n",
       "<tr>\n",
       "  <th>Covariance Type:</th>      <td>nonrobust</td>    <th>                     </th>     <td> </td>   \n",
       "</tr>\n",
       "</table>\n",
       "<table class=\"simpletable\">\n",
       "<tr>\n",
       "       <td></td>         <th>coef</th>     <th>std err</th>      <th>t</th>      <th>P>|t|</th>  <th>[0.025</th>    <th>0.975]</th>  \n",
       "</tr>\n",
       "<tr>\n",
       "  <th>Intercept</th>  <td>   57.2891</td> <td>   18.168</td> <td>    3.153</td> <td> 0.002</td> <td>   21.063</td> <td>   93.515</td>\n",
       "</tr>\n",
       "<tr>\n",
       "  <th>Area</th>       <td>   17.8871</td> <td>   11.643</td> <td>    1.536</td> <td> 0.129</td> <td>   -5.328</td> <td>   41.102</td>\n",
       "</tr>\n",
       "<tr>\n",
       "  <th>Population</th> <td>    0.4950</td> <td>    0.159</td> <td>    3.105</td> <td> 0.003</td> <td>    0.177</td> <td>    0.813</td>\n",
       "</tr>\n",
       "</table>\n",
       "<table class=\"simpletable\">\n",
       "<tr>\n",
       "  <th>Omnibus:</th>       <td>99.231</td> <th>  Durbin-Watson:     </th> <td>   2.287</td>\n",
       "</tr>\n",
       "<tr>\n",
       "  <th>Prob(Omnibus):</th> <td> 0.000</td> <th>  Jarque-Bera (JB):  </th> <td>1553.599</td>\n",
       "</tr>\n",
       "<tr>\n",
       "  <th>Skew:</th>          <td> 4.241</td> <th>  Prob(JB):          </th> <td>    0.00</td>\n",
       "</tr>\n",
       "<tr>\n",
       "  <th>Kurtosis:</th>      <td>23.782</td> <th>  Cond. No.          </th> <td>    135.</td>\n",
       "</tr>\n",
       "</table><br/><br/>Warnings:<br/>[1] Standard Errors assume that the covariance matrix of the errors is correctly specified."
      ],
      "text/plain": [
       "<class 'statsmodels.iolib.summary.Summary'>\n",
       "\"\"\"\n",
       "                            OLS Regression Results                            \n",
       "==============================================================================\n",
       "Dep. Variable:              Languages   R-squared:                       0.194\n",
       "Model:                            OLS   Adj. R-squared:                  0.171\n",
       "Method:                 Least Squares   F-statistic:                     8.538\n",
       "Date:                Fri, 11 Oct 2019   Prob (F-statistic):           0.000476\n",
       "Time:                        09:57:55   Log-Likelihood:                -464.37\n",
       "No. Observations:                  74   AIC:                             934.7\n",
       "Df Residuals:                      71   BIC:                             941.7\n",
       "Df Model:                           2                                         \n",
       "Covariance Type:            nonrobust                                         \n",
       "==============================================================================\n",
       "                 coef    std err          t      P>|t|      [0.025      0.975]\n",
       "------------------------------------------------------------------------------\n",
       "Intercept     57.2891     18.168      3.153      0.002      21.063      93.515\n",
       "Area          17.8871     11.643      1.536      0.129      -5.328      41.102\n",
       "Population     0.4950      0.159      3.105      0.003       0.177       0.813\n",
       "==============================================================================\n",
       "Omnibus:                       99.231   Durbin-Watson:                   2.287\n",
       "Prob(Omnibus):                  0.000   Jarque-Bera (JB):             1553.599\n",
       "Skew:                           4.241   Prob(JB):                         0.00\n",
       "Kurtosis:                      23.782   Cond. No.                         135.\n",
       "==============================================================================\n",
       "\n",
       "Warnings:\n",
       "[1] Standard Errors assume that the covariance matrix of the errors is correctly specified.\n",
       "\"\"\""
      ]
     },
     "execution_count": 15,
     "metadata": {},
     "output_type": "execute_result"
    }
   ],
   "source": [
    "mod2 = smf.ols(formula = 'Languages ~ Area + Population', data = df).fit()\n",
    "mod2.summary()"
   ]
  },
  {
   "cell_type": "markdown",
   "metadata": {
    "slideshow": {
     "slide_type": "slide"
    }
   },
   "source": [
    "Now we can compare the $B$ values for Area and Population. \n",
    "\n",
    "We see that Area has a stronger relationship with Language than Population. \n",
    "\n",
    "On the other hand, with the introduction of the second predictor variable, Area is no longer a significant predictor. \n",
    "\n",
    "Finally, the two together can better account for the variance in the data (adjusted $R^2$ = 0.17) than Area alone (adjusted $R^2$ = 0.072)."
   ]
  },
  {
   "cell_type": "markdown",
   "metadata": {
    "slideshow": {
     "slide_type": "slide"
    }
   },
   "source": [
    "### Now we can interpret the relative predictive strength of Input MLU in the data from Hoff & Naigles (2002)"
   ]
  },
  {
   "cell_type": "markdown",
   "metadata": {
    "slideshow": {
     "slide_type": "fragment"
    }
   },
   "source": [
    "![](images/Hoff_Naigles_2002_table5.png)"
   ]
  }
 ],
 "metadata": {
  "celltoolbar": "Slideshow",
  "kernelspec": {
   "display_name": "Python 3",
   "language": "python",
   "name": "python3"
  },
  "language_info": {
   "codemirror_mode": {
    "name": "ipython",
    "version": 3
   },
   "file_extension": ".py",
   "mimetype": "text/x-python",
   "name": "python",
   "nbconvert_exporter": "python",
   "pygments_lexer": "ipython3",
   "version": "3.7.3"
  }
 },
 "nbformat": 4,
 "nbformat_minor": 2
}
