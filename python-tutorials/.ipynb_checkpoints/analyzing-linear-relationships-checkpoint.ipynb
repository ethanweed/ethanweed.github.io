{
 "cells": [
  {
   "cell_type": "markdown",
   "metadata": {},
   "source": [
    "# Linear Relationships\n",
    "\n",
    "\n",
    "One of the most basic things a researcher is interested in is seeing whether there is any relationship between variables. Here, we will look at data from Nettle (1998).\n",
    "\n",
    "\n",
    "![](images/Nettle_1998_abstract.png)\n"
   ]
  },
  {
   "cell_type": "markdown",
   "metadata": {},
   "source": [
    "Nettle recorded the *number of languages*, the *area* (in km<sup>2</sup>), the *population*, the *mean growing season* (MGS, in months), the number of weather stations measuring MGS, and the standard deviation of the measurements of MGS from the different weather stations in each country.\n",
    "\n",
    "## Plotting Correlations\n",
    "We can use seaborn to see if there is any clear relationship between these variables. We might expect that there would be a relationship between the area of a country and the population of that country. We can use the ``XXXXX`` and the ``XXXXX`` functions to take a quick look.\n"
   ]
  },
  {
   "cell_type": "code",
   "execution_count": 24,
   "metadata": {},
   "outputs": [
    {
     "data": {
      "text/html": [
       "<div>\n",
       "<style scoped>\n",
       "    .dataframe tbody tr th:only-of-type {\n",
       "        vertical-align: middle;\n",
       "    }\n",
       "\n",
       "    .dataframe tbody tr th {\n",
       "        vertical-align: top;\n",
       "    }\n",
       "\n",
       "    .dataframe thead th {\n",
       "        text-align: right;\n",
       "    }\n",
       "</style>\n",
       "<table border=\"1\" class=\"dataframe\">\n",
       "  <thead>\n",
       "    <tr style=\"text-align: right;\">\n",
       "      <th></th>\n",
       "      <th>Country</th>\n",
       "      <th>Languages</th>\n",
       "      <th>Area</th>\n",
       "      <th>Population</th>\n",
       "      <th>Stations</th>\n",
       "      <th>MGS</th>\n",
       "      <th>GS_SD</th>\n",
       "      <th>Variable_GS</th>\n",
       "      <th>Used_in_1996</th>\n",
       "    </tr>\n",
       "  </thead>\n",
       "  <tbody>\n",
       "    <tr>\n",
       "      <th>0</th>\n",
       "      <td>Algeria</td>\n",
       "      <td>18</td>\n",
       "      <td>2.381741</td>\n",
       "      <td>25.660</td>\n",
       "      <td>102</td>\n",
       "      <td>6.60</td>\n",
       "      <td>2.29</td>\n",
       "      <td>Y</td>\n",
       "      <td>N</td>\n",
       "    </tr>\n",
       "    <tr>\n",
       "      <th>1</th>\n",
       "      <td>Angola</td>\n",
       "      <td>42</td>\n",
       "      <td>1.246700</td>\n",
       "      <td>10.303</td>\n",
       "      <td>50</td>\n",
       "      <td>6.22</td>\n",
       "      <td>1.87</td>\n",
       "      <td>N</td>\n",
       "      <td>N</td>\n",
       "    </tr>\n",
       "    <tr>\n",
       "      <th>2</th>\n",
       "      <td>Australia</td>\n",
       "      <td>234</td>\n",
       "      <td>7.713364</td>\n",
       "      <td>17.336</td>\n",
       "      <td>134</td>\n",
       "      <td>6.00</td>\n",
       "      <td>4.17</td>\n",
       "      <td>Y</td>\n",
       "      <td>N</td>\n",
       "    </tr>\n",
       "    <tr>\n",
       "      <th>3</th>\n",
       "      <td>Bangladesh</td>\n",
       "      <td>37</td>\n",
       "      <td>0.143998</td>\n",
       "      <td>118.745</td>\n",
       "      <td>20</td>\n",
       "      <td>7.40</td>\n",
       "      <td>0.73</td>\n",
       "      <td>N</td>\n",
       "      <td>N</td>\n",
       "    </tr>\n",
       "    <tr>\n",
       "      <th>4</th>\n",
       "      <td>Benin</td>\n",
       "      <td>52</td>\n",
       "      <td>0.112622</td>\n",
       "      <td>4.889</td>\n",
       "      <td>7</td>\n",
       "      <td>7.14</td>\n",
       "      <td>0.99</td>\n",
       "      <td>N</td>\n",
       "      <td>Y</td>\n",
       "    </tr>\n",
       "  </tbody>\n",
       "</table>\n",
       "</div>"
      ],
      "text/plain": [
       "      Country  Languages      Area  Population  Stations   MGS  GS_SD  \\\n",
       "0     Algeria         18  2.381741      25.660       102  6.60   2.29   \n",
       "1      Angola         42  1.246700      10.303        50  6.22   1.87   \n",
       "2   Australia        234  7.713364      17.336       134  6.00   4.17   \n",
       "3  Bangladesh         37  0.143998     118.745        20  7.40   0.73   \n",
       "4       Benin         52  0.112622       4.889         7  7.14   0.99   \n",
       "\n",
       "  Variable_GS Used_in_1996  \n",
       "0           Y            N  \n",
       "1           N            N  \n",
       "2           Y            N  \n",
       "3           N            N  \n",
       "4           N            Y  "
      ]
     },
     "execution_count": 24,
     "metadata": {},
     "output_type": "execute_result"
    }
   ],
   "source": [
    "from os import chdir as cd\n",
    "import pandas as pd\n",
    "\n",
    "pathin = '/Users/ethan/Documents/GitHub/ethanweed.github.io/python-tutorials/data/'\n",
    "file = 'nettle_1998.csv'\n",
    "\n",
    "cd(pathin)\n",
    "\n",
    "# make a pandas \"dataframe\" from the .csv file. The file uses semicolons to separate the columns.\n",
    "df = pd.read_csv(file, sep = ';')\n",
    "\n",
    "# Nettle reports the population data in 1000's, probably to save room in the data table, \n",
    "#but that is an unusual number to think about population in, so let's convert to millions. \n",
    "#While we're at it, let's convert km2 to millions, so that the number doesn't appear in scientific notation \n",
    "#on the x-axis\n",
    "df['Population'] = df['Population']*1000/1000000\n",
    "df['Area'] = df['Area']/1000000\n",
    "\n",
    "# look at the first lines of the dataframe\n",
    "df.head()"
   ]
  },
  {
   "cell_type": "code",
   "execution_count": 25,
   "metadata": {},
   "outputs": [
    {
     "data": {
      "image/png": "[encoded data removed]",
      "text/plain": [
       "<Figure size 360x360 with 1 Axes>"
      ]
     },
     "metadata": {
      "needs_background": "light"
     },
     "output_type": "display_data"
    }
   ],
   "source": [
    "import seaborn as sns\n",
    "import matplotlib.pyplot as plt\n",
    "%matplotlib inline\n",
    "import numpy as np\n",
    "\n",
    "ax = sns.lmplot(x = \"Area\", y = \"Languages\", data = df)"
   ]
  },
  {
   "cell_type": "markdown",
   "metadata": {},
   "source": [
    "There does seem to be some sort of relationship here, but it is difficult to see on the plot. A few countries are outliers, and they are pushing all the other data down into the lower-left corner. By transforming the data to a logarithmic scale, we can stretch them out a bit, and make them easier to see. Let's add two more columns to the dataframe, with log-transformed versions of the Population and Area data:"
   ]
  },
  {
   "cell_type": "code",
   "execution_count": 26,
   "metadata": {},
   "outputs": [
    {
     "data": {
      "text/html": [
       "<div>\n",
       "<style scoped>\n",
       "    .dataframe tbody tr th:only-of-type {\n",
       "        vertical-align: middle;\n",
       "    }\n",
       "\n",
       "    .dataframe tbody tr th {\n",
       "        vertical-align: top;\n",
       "    }\n",
       "\n",
       "    .dataframe thead th {\n",
       "        text-align: right;\n",
       "    }\n",
       "</style>\n",
       "<table border=\"1\" class=\"dataframe\">\n",
       "  <thead>\n",
       "    <tr style=\"text-align: right;\">\n",
       "      <th></th>\n",
       "      <th>Country</th>\n",
       "      <th>Languages</th>\n",
       "      <th>Area</th>\n",
       "      <th>Population</th>\n",
       "      <th>Stations</th>\n",
       "      <th>MGS</th>\n",
       "      <th>GS_SD</th>\n",
       "      <th>Variable_GS</th>\n",
       "      <th>Used_in_1996</th>\n",
       "      <th>Population_log</th>\n",
       "      <th>Area_log</th>\n",
       "      <th>Languages_log</th>\n",
       "    </tr>\n",
       "  </thead>\n",
       "  <tbody>\n",
       "    <tr>\n",
       "      <th>0</th>\n",
       "      <td>Algeria</td>\n",
       "      <td>18</td>\n",
       "      <td>2.381741</td>\n",
       "      <td>25.660</td>\n",
       "      <td>102</td>\n",
       "      <td>6.60</td>\n",
       "      <td>2.29</td>\n",
       "      <td>Y</td>\n",
       "      <td>N</td>\n",
       "      <td>3.244933</td>\n",
       "      <td>0.867832</td>\n",
       "      <td>2.890372</td>\n",
       "    </tr>\n",
       "    <tr>\n",
       "      <th>1</th>\n",
       "      <td>Angola</td>\n",
       "      <td>42</td>\n",
       "      <td>1.246700</td>\n",
       "      <td>10.303</td>\n",
       "      <td>50</td>\n",
       "      <td>6.22</td>\n",
       "      <td>1.87</td>\n",
       "      <td>N</td>\n",
       "      <td>N</td>\n",
       "      <td>2.332435</td>\n",
       "      <td>0.220500</td>\n",
       "      <td>3.737670</td>\n",
       "    </tr>\n",
       "    <tr>\n",
       "      <th>2</th>\n",
       "      <td>Australia</td>\n",
       "      <td>234</td>\n",
       "      <td>7.713364</td>\n",
       "      <td>17.336</td>\n",
       "      <td>134</td>\n",
       "      <td>6.00</td>\n",
       "      <td>4.17</td>\n",
       "      <td>Y</td>\n",
       "      <td>N</td>\n",
       "      <td>2.852785</td>\n",
       "      <td>2.042954</td>\n",
       "      <td>5.455321</td>\n",
       "    </tr>\n",
       "    <tr>\n",
       "      <th>3</th>\n",
       "      <td>Bangladesh</td>\n",
       "      <td>37</td>\n",
       "      <td>0.143998</td>\n",
       "      <td>118.745</td>\n",
       "      <td>20</td>\n",
       "      <td>7.40</td>\n",
       "      <td>0.73</td>\n",
       "      <td>N</td>\n",
       "      <td>N</td>\n",
       "      <td>4.776978</td>\n",
       "      <td>-1.937956</td>\n",
       "      <td>3.610918</td>\n",
       "    </tr>\n",
       "    <tr>\n",
       "      <th>4</th>\n",
       "      <td>Benin</td>\n",
       "      <td>52</td>\n",
       "      <td>0.112622</td>\n",
       "      <td>4.889</td>\n",
       "      <td>7</td>\n",
       "      <td>7.14</td>\n",
       "      <td>0.99</td>\n",
       "      <td>N</td>\n",
       "      <td>Y</td>\n",
       "      <td>1.586988</td>\n",
       "      <td>-2.183718</td>\n",
       "      <td>3.951244</td>\n",
       "    </tr>\n",
       "  </tbody>\n",
       "</table>\n",
       "</div>"
      ],
      "text/plain": [
       "      Country  Languages      Area  Population  Stations   MGS  GS_SD  \\\n",
       "0     Algeria         18  2.381741      25.660       102  6.60   2.29   \n",
       "1      Angola         42  1.246700      10.303        50  6.22   1.87   \n",
       "2   Australia        234  7.713364      17.336       134  6.00   4.17   \n",
       "3  Bangladesh         37  0.143998     118.745        20  7.40   0.73   \n",
       "4       Benin         52  0.112622       4.889         7  7.14   0.99   \n",
       "\n",
       "  Variable_GS Used_in_1996  Population_log  Area_log  Languages_log  \n",
       "0           Y            N        3.244933  0.867832       2.890372  \n",
       "1           N            N        2.332435  0.220500       3.737670  \n",
       "2           Y            N        2.852785  2.042954       5.455321  \n",
       "3           N            N        4.776978 -1.937956       3.610918  \n",
       "4           N            Y        1.586988 -2.183718       3.951244  "
      ]
     },
     "execution_count": 26,
     "metadata": {},
     "output_type": "execute_result"
    }
   ],
   "source": [
    "df['Population_log'] = np.log(df['Population'])\n",
    "df['Area_log'] = np.log(df['Area'])\n",
    "df['Languages_log'] = np.log(df['Languages'])\n",
    "df.head()"
   ]
  },
  {
   "cell_type": "markdown",
   "metadata": {},
   "source": [
    "Now the relationship is a little easier to see:"
   ]
  },
  {
   "cell_type": "code",
   "execution_count": 27,
   "metadata": {},
   "outputs": [
    {
     "data": {
      "text/plain": [
       "<matplotlib.axes._subplots.AxesSubplot at 0x1a1a12c898>"
      ]
     },
     "execution_count": 27,
     "metadata": {},
     "output_type": "execute_result"
    },
    {
     "data": {
      "image/png": "[encoded data removed]",
      "text/plain": [
       "<Figure size 432x288 with 1 Axes>"
      ]
     },
     "metadata": {
      "needs_background": "light"
     },
     "output_type": "display_data"
    }
   ],
   "source": [
    "# Plot the log-transformed data\n",
    "sns.regplot(x = \"Area_log\", y = \"Languages_log\", data = df)"
   ]
  },
  {
   "cell_type": "code",
   "execution_count": 28,
   "metadata": {},
   "outputs": [
    {
     "name": "stdout",
     "output_type": "stream",
     "text": [
      "R (correlation coefficient):  0.2905\n",
      "p-value:  0.01204\n"
     ]
    }
   ],
   "source": [
    "import scipy.stats as stats\n",
    "\n",
    "# create a tuple \"res\" containing r and p-value for Pearson's correlation\n",
    "res = stats.pearsonr(df['Area'], df['Languages'])\n",
    "\n",
    "# round of the output to 5 decimal places\n",
    "print(\"R (correlation coefficient): \", round(res[0],5))\n",
    "print(\"p-value: \", round(res[1],5))"
   ]
  },
  {
   "cell_type": "markdown",
   "metadata": {},
   "source": [
    "The output tells us that there is a positive correlation between the number of languages and the area of the country. We can see this in the correlation coefficient (cor) which is 0.29. The correlation coefficient is a number between 1 and -1, with 1 indicating a perfect positive correlation, and -1 indicating a perfect negative correlation. The p-value of the correlation indicates how confident we can be in the fit of the model."
   ]
  },
  {
   "cell_type": "markdown",
   "metadata": {},
   "source": [
    "## Correlation Matrix\n",
    "\n",
    "Sometimes it can be useful to look at all the correlations between all of the variables in a dataset at once. This can be done with a correlation matrix. However, we should be careful about reading too much into a correlation matrix: it just tells us how much the variables correlate with each other. In order to be more rigorous about making predictions, we will need to build linear models."
   ]
  },
  {
   "cell_type": "code",
   "execution_count": 29,
   "metadata": {},
   "outputs": [
    {
     "name": "stdout",
     "output_type": "stream",
     "text": [
      "            Languages      Area  Population       MGS\n",
      "Languages    1.000000  0.290502    0.408753  0.241796\n",
      "Area         0.290502  1.000000    0.333082 -0.127708\n",
      "Population   0.408753  0.333082    1.000000 -0.017172\n",
      "MGS          0.241796 -0.127708   -0.017172  1.000000\n"
     ]
    }
   ],
   "source": [
    "print( df[['Languages','Area', 'Population', 'MGS']].corr())"
   ]
  },
  {
   "cell_type": "markdown",
   "metadata": {},
   "source": [
    "## Modelling a Relationship as a Linear Regression\n",
    "\n",
    "In the plot above, we used a so-called linear model to draw the line between the points. The straight line in the plot is a linear model, that minimizes the distance between the line and every individual point. If we generate some random numbers to create white noise, then the line should be close to horizontal. Here we see a linear model of 1000 random numbers between 0 and 100 plotted against 1000 other random numbers between 0 and 100:"
   ]
  },
  {
   "cell_type": "code",
   "execution_count": 30,
   "metadata": {},
   "outputs": [
    {
     "data": {
      "text/plain": [
       "Text(0.5, 1.0, 'White Noise')"
      ]
     },
     "execution_count": 30,
     "metadata": {},
     "output_type": "execute_result"
    },
    {
     "data": {
      "image/png": "[encoded data removed]",
      "text/plain": [
       "<Figure size 432x288 with 1 Axes>"
      ]
     },
     "metadata": {
      "needs_background": "light"
     },
     "output_type": "display_data"
    }
   ],
   "source": [
    "from random import seed\n",
    "from random import randint\n",
    "seed(42)\n",
    "x = []\n",
    "y = []\n",
    "for _ in range(1000):\n",
    "    xvalue = randint(0, 100)\n",
    "    yvalue = randint(0, 100)\n",
    "    x.append(xvalue)\n",
    "    y.append(yvalue)\n",
    "\n",
    "df_random = pd.DataFrame(\n",
    "    {'x': x,\n",
    "     'y': y})     \n",
    "\n",
    "sns.regplot(x = \"x\", y = \"y\", data = df_random).set_title('White Noise')"
   ]
  },
  {
   "cell_type": "markdown",
   "metadata": {},
   "source": [
    "If we were in doubt, our correlation matrix shows us that there is very little correlation between these two vectors of random numbers:"
   ]
  },
  {
   "cell_type": "code",
   "execution_count": 31,
   "metadata": {},
   "outputs": [
    {
     "name": "stdout",
     "output_type": "stream",
     "text": [
      "R (correlation coefficient):  0.03547\n",
      "p-value:  0.26244\n"
     ]
    }
   ],
   "source": [
    "res = stats.pearsonr(df_random['x'], df_random['y'])\n",
    "print(\"R (correlation coefficient): \", round(res[0],5))\n",
    "print(\"p-value: \", round(res[1],5))"
   ]
  },
  {
   "cell_type": "code",
   "execution_count": null,
   "metadata": {},
   "outputs": [],
   "source": []
  }
 ],
 "metadata": {
  "kernelspec": {
   "display_name": "Python 3",
   "language": "python",
   "name": "python3"
  },
  "language_info": {
   "codemirror_mode": {
    "name": "ipython",
    "version": 3
   },
   "file_extension": ".py",
   "mimetype": "text/x-python",
   "name": "python",
   "nbconvert_exporter": "python",
   "pygments_lexer": "ipython3",
   "version": "3.7.3"
  }
 },
 "nbformat": 4,
 "nbformat_minor": 2
}
